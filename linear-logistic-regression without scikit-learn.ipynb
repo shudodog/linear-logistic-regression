{
 "cells": [
  {
   "cell_type": "code",
   "execution_count": 69,
   "metadata": {},
   "outputs": [
    {
     "data": {
      "text/html": [
       "<div>\n",
       "<style scoped>\n",
       "    .dataframe tbody tr th:only-of-type {\n",
       "        vertical-align: middle;\n",
       "    }\n",
       "\n",
       "    .dataframe tbody tr th {\n",
       "        vertical-align: top;\n",
       "    }\n",
       "\n",
       "    .dataframe thead th {\n",
       "        text-align: right;\n",
       "    }\n",
       "</style>\n",
       "<table border=\"1\" class=\"dataframe\">\n",
       "  <thead>\n",
       "    <tr style=\"text-align: right;\">\n",
       "      <th></th>\n",
       "      <th>A1</th>\n",
       "      <th>A2</th>\n",
       "      <th>A3</th>\n",
       "      <th>A4</th>\n",
       "      <th>A5</th>\n",
       "      <th>A6</th>\n",
       "      <th>A7</th>\n",
       "      <th>A8</th>\n",
       "      <th>A9</th>\n",
       "      <th>A10</th>\n",
       "      <th>A11</th>\n",
       "      <th>B</th>\n",
       "    </tr>\n",
       "  </thead>\n",
       "  <tbody>\n",
       "    <tr>\n",
       "      <th>0</th>\n",
       "      <td>4.9176</td>\n",
       "      <td>1.0</td>\n",
       "      <td>3.472</td>\n",
       "      <td>0.998</td>\n",
       "      <td>1.0</td>\n",
       "      <td>7</td>\n",
       "      <td>4</td>\n",
       "      <td>42</td>\n",
       "      <td>3</td>\n",
       "      <td>1</td>\n",
       "      <td>0</td>\n",
       "      <td>25.9</td>\n",
       "    </tr>\n",
       "    <tr>\n",
       "      <th>1</th>\n",
       "      <td>5.0208</td>\n",
       "      <td>1.0</td>\n",
       "      <td>3.531</td>\n",
       "      <td>1.500</td>\n",
       "      <td>2.0</td>\n",
       "      <td>7</td>\n",
       "      <td>4</td>\n",
       "      <td>62</td>\n",
       "      <td>1</td>\n",
       "      <td>1</td>\n",
       "      <td>0</td>\n",
       "      <td>29.5</td>\n",
       "    </tr>\n",
       "    <tr>\n",
       "      <th>2</th>\n",
       "      <td>4.5429</td>\n",
       "      <td>1.0</td>\n",
       "      <td>2.275</td>\n",
       "      <td>1.175</td>\n",
       "      <td>1.0</td>\n",
       "      <td>6</td>\n",
       "      <td>3</td>\n",
       "      <td>40</td>\n",
       "      <td>2</td>\n",
       "      <td>1</td>\n",
       "      <td>0</td>\n",
       "      <td>27.9</td>\n",
       "    </tr>\n",
       "    <tr>\n",
       "      <th>3</th>\n",
       "      <td>4.5573</td>\n",
       "      <td>1.0</td>\n",
       "      <td>4.050</td>\n",
       "      <td>1.232</td>\n",
       "      <td>1.0</td>\n",
       "      <td>6</td>\n",
       "      <td>3</td>\n",
       "      <td>54</td>\n",
       "      <td>4</td>\n",
       "      <td>1</td>\n",
       "      <td>0</td>\n",
       "      <td>25.9</td>\n",
       "    </tr>\n",
       "    <tr>\n",
       "      <th>4</th>\n",
       "      <td>5.0597</td>\n",
       "      <td>1.0</td>\n",
       "      <td>4.455</td>\n",
       "      <td>1.121</td>\n",
       "      <td>1.0</td>\n",
       "      <td>6</td>\n",
       "      <td>3</td>\n",
       "      <td>42</td>\n",
       "      <td>3</td>\n",
       "      <td>1</td>\n",
       "      <td>0</td>\n",
       "      <td>29.9</td>\n",
       "    </tr>\n",
       "  </tbody>\n",
       "</table>\n",
       "</div>"
      ],
      "text/plain": [
       "       A1   A2     A3     A4   A5  A6  A7  A8  A9  A10  A11     B\n",
       "0  4.9176  1.0  3.472  0.998  1.0   7   4  42   3    1    0  25.9\n",
       "1  5.0208  1.0  3.531  1.500  2.0   7   4  62   1    1    0  29.5\n",
       "2  4.5429  1.0  2.275  1.175  1.0   6   3  40   2    1    0  27.9\n",
       "3  4.5573  1.0  4.050  1.232  1.0   6   3  54   4    1    0  25.9\n",
       "4  5.0597  1.0  4.455  1.121  1.0   6   3  42   3    1    0  29.9"
      ]
     },
     "execution_count": 69,
     "metadata": {},
     "output_type": "execute_result"
    }
   ],
   "source": [
    "#Probelm1-(2)normal equation\n",
    "import pandas as pd\n",
    "import numpy as np\n",
    "import matplotlib.pyplot as plt\n",
    "data = pd.read_csv(\"P1_data.txt\")\n",
    "data.head()"
   ]
  },
  {
   "cell_type": "code",
   "execution_count": 70,
   "metadata": {},
   "outputs": [],
   "source": [
    "data.columns\n",
    "x1 = data[\"A1\"]\n",
    "x2 = data[\"A2\"]\n",
    "x3 = data[\"A3\"]\n",
    "x4 = data[\"A4\"]\n",
    "x5 = data[\"A5\"]\n",
    "x6 = data[\"A6\"]\n",
    "x7 = data[\"A7\"]\n",
    "x8 = data[\"A8\"]\n",
    "x9 = data[\"A9\"]\n",
    "x10 = data[\"A10\"]\n",
    "x11 = data[\"A11\"]\n",
    "y = data[\"B\"]"
   ]
  },
  {
   "cell_type": "code",
   "execution_count": 71,
   "metadata": {},
   "outputs": [],
   "source": [
    "x1 = np.array(x1)\n",
    "x2 = np.array(x2)\n",
    "x3 = np.array(x3)\n",
    "x4 = np.array(x4)\n",
    "x5 = np.array(x5)\n",
    "x6 = np.array(x6)\n",
    "x7 = np.array(x7)\n",
    "x8 = np.array(x8)\n",
    "x9 = np.array(x9)\n",
    "x10 = np.array(x10)\n",
    "x11 = np.array(x11)\n",
    "y = np.array(y)"
   ]
  },
  {
   "cell_type": "code",
   "execution_count": 72,
   "metadata": {},
   "outputs": [],
   "source": [
    "n = len(x1)\n",
    "x_bias = np.ones((n,1))"
   ]
  },
  {
   "cell_type": "code",
   "execution_count": 73,
   "metadata": {},
   "outputs": [],
   "source": [
    "x1_new = np.reshape(x1,(n,1))\n",
    "x2_new = np.reshape(x2,(n,1))\n",
    "x3_new = np.reshape(x3,(n,1))\n",
    "x4_new = np.reshape(x4,(n,1))\n",
    "x5_new = np.reshape(x5,(n,1))\n",
    "x6_new = np.reshape(x6,(n,1))\n",
    "x7_new = np.reshape(x7,(n,1))\n",
    "x8_new = np.reshape(x8,(n,1))\n",
    "x9_new = np.reshape(x9,(n,1))\n",
    "x10_new = np.reshape(x10,(n,1))\n",
    "x11_new = np.reshape(x11,(n,1))"
   ]
  },
  {
   "cell_type": "code",
   "execution_count": 74,
   "metadata": {},
   "outputs": [],
   "source": [
    "x_new = np.append(x_bias, x1_new, axis=1)\n",
    "x_new = np.append(x_new, x2_new, axis=1)\n",
    "x_new = np.append(x_new, x3_new, axis=1)\n",
    "x_new = np.append(x_new, x4_new, axis=1)\n",
    "x_new = np.append(x_new, x5_new, axis=1)\n",
    "x_new = np.append(x_new, x6_new, axis=1)\n",
    "x_new = np.append(x_new, x7_new, axis=1)\n",
    "x_new = np.append(x_new, x8_new, axis=1)\n",
    "x_new = np.append(x_new, x9_new, axis=1)\n",
    "x_new = np.append(x_new, x10_new, axis=1)\n",
    "x_new = np.append(x_new, x11_new, axis=1)"
   ]
  },
  {
   "cell_type": "code",
   "execution_count": 75,
   "metadata": {},
   "outputs": [],
   "source": [
    "x_new_transpose = np.transpose(x_new)\n",
    "x_new_transpose_dot_x_new = x_new_transpose.dot(x_new)\n",
    "temp_1 = np.linalg.inv(x_new_transpose_dot_x_new)\n",
    "temp_2 = x_new_transpose.dot(y)\n",
    "theta = temp_1.dot(temp_2)"
   ]
  },
  {
   "cell_type": "code",
   "execution_count": 76,
   "metadata": {},
   "outputs": [],
   "source": [
    "beta_0 = theta[0]\n",
    "beta_1 = theta[1]\n",
    "beta_2 = theta[2]\n",
    "beta_3 = theta[3]\n",
    "beta_4 = theta[4]\n",
    "beta_5 = theta[5]\n",
    "beta_6 = theta[6]\n",
    "beta_7 = theta[7]\n",
    "beta_8 = theta[8]\n",
    "beta_9 = theta[9]\n",
    "beta_10 = theta[10]\n",
    "beta_11 = theta[11]"
   ]
  },
  {
   "cell_type": "code",
   "execution_count": 77,
   "metadata": {},
   "outputs": [],
   "source": [
    "def predict_values(beta_0, beta_1,beta_2, beta_3,beta_4,beta_5,beta_6,beta_7,beta_8,beta_9,beta_10,beta_11, A1, A2,A3,A4,A5,A6,A7,A8,A9,A10,A11):\n",
    "    predicted_value = beta_0 + beta_1*A1 + beta_2*A2 + beta_3*A3 + beta_4*A4 + beta_5*A5 + beta_6*A6 + beta_7*A7 + beta_8*A8 \n",
    "    + beta_9*A9 + beta_10*A10 + beta_11*A11\n",
    "    return predicted_value"
   ]
  },
  {
   "cell_type": "code",
   "execution_count": 78,
   "metadata": {},
   "outputs": [
    {
     "name": "stdout",
     "output_type": "stream",
     "text": [
      "normal equation Price:  45.88908875637964\n"
     ]
    }
   ],
   "source": [
    "print(\"normal equation Price: \",predict_values(beta_0, beta_1,beta_2, beta_3,beta_4,beta_5,beta_6,beta_7,beta_8,beta_9,beta_10,beta_11, 11.5, 2.0, 7.25, 1.75, 1, 8, 5, 15, 2, 1, 1))"
   ]
  },
  {
   "cell_type": "code",
   "execution_count": null,
   "metadata": {},
   "outputs": [],
   "source": []
  },
  {
   "cell_type": "code",
   "execution_count": 79,
   "metadata": {},
   "outputs": [
    {
     "data": {
      "text/html": [
       "<div>\n",
       "<style scoped>\n",
       "    .dataframe tbody tr th:only-of-type {\n",
       "        vertical-align: middle;\n",
       "    }\n",
       "\n",
       "    .dataframe tbody tr th {\n",
       "        vertical-align: top;\n",
       "    }\n",
       "\n",
       "    .dataframe thead th {\n",
       "        text-align: right;\n",
       "    }\n",
       "</style>\n",
       "<table border=\"1\" class=\"dataframe\">\n",
       "  <thead>\n",
       "    <tr style=\"text-align: right;\">\n",
       "      <th></th>\n",
       "      <th>A1</th>\n",
       "      <th>A2</th>\n",
       "      <th>A3</th>\n",
       "      <th>A4</th>\n",
       "      <th>A5</th>\n",
       "      <th>A6</th>\n",
       "      <th>A7</th>\n",
       "      <th>A8</th>\n",
       "      <th>A9</th>\n",
       "      <th>A10</th>\n",
       "      <th>A11</th>\n",
       "      <th>B</th>\n",
       "    </tr>\n",
       "  </thead>\n",
       "  <tbody>\n",
       "    <tr>\n",
       "      <th>0</th>\n",
       "      <td>4.9176</td>\n",
       "      <td>1.0</td>\n",
       "      <td>3.472</td>\n",
       "      <td>0.998</td>\n",
       "      <td>1.0</td>\n",
       "      <td>7</td>\n",
       "      <td>4</td>\n",
       "      <td>42</td>\n",
       "      <td>3</td>\n",
       "      <td>1</td>\n",
       "      <td>0</td>\n",
       "      <td>25.9</td>\n",
       "    </tr>\n",
       "    <tr>\n",
       "      <th>1</th>\n",
       "      <td>5.0208</td>\n",
       "      <td>1.0</td>\n",
       "      <td>3.531</td>\n",
       "      <td>1.500</td>\n",
       "      <td>2.0</td>\n",
       "      <td>7</td>\n",
       "      <td>4</td>\n",
       "      <td>62</td>\n",
       "      <td>1</td>\n",
       "      <td>1</td>\n",
       "      <td>0</td>\n",
       "      <td>29.5</td>\n",
       "    </tr>\n",
       "    <tr>\n",
       "      <th>2</th>\n",
       "      <td>4.5429</td>\n",
       "      <td>1.0</td>\n",
       "      <td>2.275</td>\n",
       "      <td>1.175</td>\n",
       "      <td>1.0</td>\n",
       "      <td>6</td>\n",
       "      <td>3</td>\n",
       "      <td>40</td>\n",
       "      <td>2</td>\n",
       "      <td>1</td>\n",
       "      <td>0</td>\n",
       "      <td>27.9</td>\n",
       "    </tr>\n",
       "    <tr>\n",
       "      <th>3</th>\n",
       "      <td>4.5573</td>\n",
       "      <td>1.0</td>\n",
       "      <td>4.050</td>\n",
       "      <td>1.232</td>\n",
       "      <td>1.0</td>\n",
       "      <td>6</td>\n",
       "      <td>3</td>\n",
       "      <td>54</td>\n",
       "      <td>4</td>\n",
       "      <td>1</td>\n",
       "      <td>0</td>\n",
       "      <td>25.9</td>\n",
       "    </tr>\n",
       "    <tr>\n",
       "      <th>4</th>\n",
       "      <td>5.0597</td>\n",
       "      <td>1.0</td>\n",
       "      <td>4.455</td>\n",
       "      <td>1.121</td>\n",
       "      <td>1.0</td>\n",
       "      <td>6</td>\n",
       "      <td>3</td>\n",
       "      <td>42</td>\n",
       "      <td>3</td>\n",
       "      <td>1</td>\n",
       "      <td>0</td>\n",
       "      <td>29.9</td>\n",
       "    </tr>\n",
       "  </tbody>\n",
       "</table>\n",
       "</div>"
      ],
      "text/plain": [
       "       A1   A2     A3     A4   A5  A6  A7  A8  A9  A10  A11     B\n",
       "0  4.9176  1.0  3.472  0.998  1.0   7   4  42   3    1    0  25.9\n",
       "1  5.0208  1.0  3.531  1.500  2.0   7   4  62   1    1    0  29.5\n",
       "2  4.5429  1.0  2.275  1.175  1.0   6   3  40   2    1    0  27.9\n",
       "3  4.5573  1.0  4.050  1.232  1.0   6   3  54   4    1    0  25.9\n",
       "4  5.0597  1.0  4.455  1.121  1.0   6   3  42   3    1    0  29.9"
      ]
     },
     "execution_count": 79,
     "metadata": {},
     "output_type": "execute_result"
    }
   ],
   "source": [
    "#Probelm1-(2) gradient equation\n",
    "import numpy as np\n",
    "import pandas as pd\n",
    "import matplotlib.pyplot as plt\n",
    "df = pd.read_csv('P1_data.txt')\n",
    "df.head()"
   ]
  },
  {
   "cell_type": "code",
   "execution_count": 80,
   "metadata": {},
   "outputs": [],
   "source": [
    "X = df.values[:, 0:11]  \n",
    "y = df.values[:, 11]  \n",
    "m = len(y) "
   ]
  },
  {
   "cell_type": "code",
   "execution_count": 81,
   "metadata": {},
   "outputs": [],
   "source": [
    "def normalz(x):\n",
    "    mu = np.mean(x, axis = 0)\n",
    "    sig = np.std(x, axis= 0, ddof = 1)\n",
    "    norm = (x - mu)/sig\n",
    "    return norm, mu, sig\n",
    "\n",
    "def cost_1(X, y, theta):\n",
    "    predictions = X.dot(theta)\n",
    "    errors = np.subtract(predictions, y)\n",
    "    sqrErrors = np.square(errors)\n",
    "    return 1/(2 * m) * errors.T.dot(errors)\n",
    "\n",
    "def gradient(X, y, theta, learning_rate, iterations):\n",
    "    ccost = np.zeros(iterations)\n",
    "    for i in range(iterations):\n",
    "        prd = X.dot(theta)\n",
    "        error = np.subtract(prd, y)\n",
    "        delta = (learning_rate / m) * X.transpose().dot(error);\n",
    "        theta = theta - delta;\n",
    "        ccost[i] = cost_1(X, y, theta)\n",
    "    return theta, ccost"
   ]
  },
  {
   "cell_type": "code",
   "execution_count": 82,
   "metadata": {},
   "outputs": [
    {
     "name": "stdout",
     "output_type": "stream",
     "text": [
      "Price: 52.111996141594226\n"
     ]
    }
   ],
   "source": [
    "X, mu, sig = normalz(X)\n",
    "X = np.hstack((np.ones((m,1)), X))\n",
    "theta = np.zeros(12)\n",
    "iterations = 400;\n",
    "learning_rate = 0.15;\n",
    "theta, cost = gradient(X, y, theta, learning_rate, iterations)\n",
    "normalize_test_data = ((np.array([11.5, 2.0, 7.25, 1.75, 1, 8, 5, 15, 2, 1, 1]) - mu) / sig)\n",
    "normalize_test_data = np.hstack((np.ones(1), normalize_test_data))\n",
    "price = normalize_test_data.dot(theta)\n",
    "print('Price:', price)"
   ]
  },
  {
   "cell_type": "code",
   "execution_count": 83,
   "metadata": {},
   "outputs": [
    {
     "data": {
      "text/plain": [
       "Text(0.5, 1.0, 'Convergence of gradient descent')"
      ]
     },
     "execution_count": 83,
     "metadata": {},
     "output_type": "execute_result"
    },
    {
     "data": {
      "image/png": "[encoded data removed]",
      "text/plain": [
       "<Figure size 720x432 with 1 Axes>"
      ]
     },
     "metadata": {
      "needs_background": "light"
     },
     "output_type": "display_data"
    }
   ],
   "source": [
    "import matplotlib.pyplot as plt\n",
    "plt.plot(range(1, iterations +1), cost, color ='red')\n",
    "plt.rcParams[\"figure.figsize\"] = (10,6)\n",
    "plt.grid()\n",
    "plt.xlabel(\"Number of iterations\")\n",
    "plt.ylabel(\"cost \")\n",
    "plt.title(\"Convergence of gradient descent\")"
   ]
  },
  {
   "cell_type": "code",
   "execution_count": 84,
   "metadata": {},
   "outputs": [
    {
     "data": {
      "text/plain": [
       "<matplotlib.legend.Legend at 0x210bf32eeb0>"
      ]
     },
     "execution_count": 84,
     "metadata": {},
     "output_type": "execute_result"
    },
    {
     "data": {
      "image/png": "[encoded data removed]",
      "text/plain": [
       "<Figure size 720x432 with 1 Axes>"
      ]
     },
     "metadata": {
      "needs_background": "light"
     },
     "output_type": "display_data"
    }
   ],
   "source": [
    "iterations = 400;\n",
    "theta = np.zeros(12)\n",
    "\n",
    "learning_rate = 0.005;\n",
    "theta_1, cost_history_1 = gradient(X, y, theta, learning_rate, iterations)\n",
    "\n",
    "learning_rate = 0.01;\n",
    "theta_2, cost_history_2 = gradient(X, y, theta, learning_rate, iterations)\n",
    "\n",
    "learning_rate = 0.1;\n",
    "theta_3, cost_history_3 = gradient(X, y, theta, learning_rate, iterations)\n",
    "\n",
    "learning_rate = 0.05;\n",
    "theta_4, cost_history_4 = gradient(X, y, theta, learning_rate, iterations)\n",
    "\n",
    "learning_rate = 0.3;\n",
    "theta_5, cost_history_5 = gradient(X, y, theta, learning_rate, iterations)\n",
    "\n",
    "plt.plot(range(1, iterations +1), cost_history_1, color ='orange', label = 'learning_rate = 0.005')\n",
    "plt.plot(range(1, iterations +1), cost_history_2, color ='red', label = 'learning_rate = 0.01')\n",
    "plt.plot(range(1, iterations +1), cost_history_3, color ='green', label = 'learning_rate = 0.1')\n",
    "plt.plot(range(1, iterations +1), cost_history_4, color ='yellow', label = 'learning_rate = 0.05')\n",
    "plt.plot(range(1, iterations +1), cost_history_5, color ='blue', label = 'learning_rate = 0.3')\n",
    "\n",
    "plt.rcParams[\"figure.figsize\"] = (10,6)\n",
    "plt.grid()\n",
    "plt.xlabel(\"Number of iterations\")\n",
    "plt.ylabel(\"cost\")\n",
    "plt.title(\"different learning rates On gradient descent, small learning rate\")\n",
    "plt.legend()"
   ]
  },
  {
   "cell_type": "code",
   "execution_count": 85,
   "metadata": {},
   "outputs": [
    {
     "data": {
      "text/plain": [
       "Text(0.5, 1.0, 'different learning rates On gradient descent, small learning rate large learning rate')"
      ]
     },
     "execution_count": 85,
     "metadata": {},
     "output_type": "execute_result"
    },
    {
     "data": {
      "image/png": "[encoded data removed]",
      "text/plain": [
       "<Figure size 720x432 with 1 Axes>"
      ]
     },
     "metadata": {
      "needs_background": "light"
     },
     "output_type": "display_data"
    }
   ],
   "source": [
    "iterations = 50;\n",
    "theta = np.zeros(12)\n",
    "\n",
    "learning_rate = 1.0;\n",
    "theta_6, cost_history_6 = gradient(X, y, theta, learning_rate, iterations)\n",
    "\n",
    "plt.plot(range(1, iterations +1), cost_history_6, color ='brown')\n",
    "plt.rcParams[\"figure.figsize\"] = (10,6)\n",
    "plt.grid()\n",
    "plt.xlabel(\"Number of iterations\")\n",
    "plt.ylabel(\"cost\")\n",
    "plt.title(\"different learning rates On gradient descent, small learning rate large learning rate\")"
   ]
  },
  {
   "cell_type": "code",
   "execution_count": 86,
   "metadata": {},
   "outputs": [],
   "source": [
    "#(3)\n",
    "#Normal Equation : no need to choose learning rate, dont need to iterate, need to compute\n",
    "#dradient descent: need to choose learning rate, needs many iterations, works well even when n is large\n",
    "#1. Gradient Descent algorithm needs to find an appropriate learning rate and requires repetitive operations. In contrast, Normal Equation can find in a single operation without an alpha value.\n",
    "#2. As mentioned above, Normal Equation is greatly influenced by the number of features in obtaining X^t. So usually, if the feature is less than 10,000, the Normal Equation performs much better, but if it's more than that, the Gradient Descent algorithm is better."
   ]
  },
  {
   "cell_type": "code",
   "execution_count": 87,
   "metadata": {},
   "outputs": [],
   "source": [
    "#(4)We can see if learning rate is larger than 0.4(maybe) it is too high learning rate, so the graph's slope sign is change\n",
    "#and we can see the best learning rate is may be 0.01 ~0.02 in red one because its slope is ideal.\n",
    "#I find that learning rate is very important in gradient descent method"
   ]
  },
  {
   "cell_type": "code",
   "execution_count": 88,
   "metadata": {},
   "outputs": [],
   "source": [
    "#(5) It is calculated by standardizing all variables to have an average of 0 and variance 1, and then estimating the regression equation. This is to determine the relative importance between these independent variables, especially when independent variables have different scales."
   ]
  },
  {
   "cell_type": "code",
   "execution_count": null,
   "metadata": {},
   "outputs": [],
   "source": []
  },
  {
   "cell_type": "code",
   "execution_count": 89,
   "metadata": {},
   "outputs": [],
   "source": [
    "##Problem2\n",
    "#sigmoid function\n",
    "def sig(x):\n",
    "    return 1 / (1 + np.exp(-x))"
   ]
  },
  {
   "cell_type": "code",
   "execution_count": 90,
   "metadata": {},
   "outputs": [],
   "source": [
    "from scipy.optimize import fmin_tnc as fm\n",
    "class LogisticRegression:\n",
    "    def cost(self, theta, x, y):\n",
    "        m = x.shape[0]\n",
    "        return  -(1 / m) * np.sum(np.log(sig(np.dot(x, theta)))*y +  np.log(1 - sig(np.dot(x, theta)))*(1 - y) )\n",
    "\n",
    "    def gradient(self, theta, x, y):\n",
    "        return (1 / x.shape[0]) * np.dot(x.T, sig(np.dot(x, theta)) - y)\n",
    "\n",
    "    def fit(self, x, y, theta):\n",
    "        w = fm(func=self.cost, x0=theta, fprime=self.gradient, args=(x, y.flatten()))\n",
    "        self.w = w[0]\n",
    "        return self\n",
    "\n",
    "    def predict(self, x):\n",
    "        theta = self.w[:, np.newaxis]\n",
    "        return sig(np.dot(x, theta))\n",
    "\n",
    "    def accuracy(self, x, test):\n",
    "        theta = self.w[:, np.newaxis]\n",
    "        prdc = (sig(np.dot(x, theta)) >= 0.5).astype(int)\n",
    "        prdc = prdc.flatten()\n",
    "        return 100*np.mean(prdc == test)"
   ]
  },
  {
   "cell_type": "code",
   "execution_count": 91,
   "metadata": {},
   "outputs": [
    {
     "name": "stdout",
     "output_type": "stream",
     "text": [
      "Accuracy: 88.88888888888889 %\n",
      "\n"
     ]
    },
    {
     "name": "stderr",
     "output_type": "stream",
     "text": [
      "<ipython-input-91-00e1537dd4fa>:35: FutureWarning: Support for multi-dimensional indexing (e.g. `obj[:, None]`) is deprecated and will be removed in a future version.  Convert to a numpy array before indexing instead.\n",
      "  train_labels = train_labels[:, np.newaxis]\n",
      "<ipython-input-91-00e1537dd4fa>:37: FutureWarning: Support for multi-dimensional indexing (e.g. `obj[:, None]`) is deprecated and will be removed in a future version.  Convert to a numpy array before indexing instead.\n",
      "  test_labels = test_labels[:, np.newaxis]\n"
     ]
    },
    {
     "data": {
      "image/png": "[encoded data removed]",
      "text/plain": [
       "<Figure size 720x432 with 1 Axes>"
      ]
     },
     "metadata": {
      "needs_background": "light"
     },
     "output_type": "display_data"
    }
   ],
   "source": [
    "import numpy as np\n",
    "import matplotlib.pyplot as plt\n",
    "import pandas as pd\n",
    "from sklearn.model_selection import train_test_split\n",
    "\n",
    "if __name__ == \"__main__\":\n",
    "    df_0 = pd.read_csv(\"P2_data_0.txt\", header = None)\n",
    "    df_1 = pd.read_csv(\"P2_data_1.txt\", header = None)\n",
    "\n",
    "    X_0 = df_0.iloc[:, :-1]\n",
    "    X_1 = df_1.iloc[:, :-1]\n",
    "\n",
    "\n",
    "    y_0 = df_0.iloc[:, -1]\n",
    "    y_1 = df_1.iloc[:, -1]\n",
    "\n",
    "\n",
    "    train_features_0, test_features_0, train_labels_0, test_labels_0 = train_test_split(X_0, y_0, test_size=0.25)\n",
    "    train_features_1, test_features_1, train_labels_1, test_labels_1 = train_test_split(X_1, y_1, test_size=0.25)\n",
    "    \n",
    "    result_0 = df_0\n",
    "    result_1 = df_1\n",
    "\n",
    "    train_features = pd.concat([train_features_0,train_features_1])\n",
    "    train_labels = pd.concat([train_labels_0,train_labels_1])\n",
    "    \n",
    "    test_features = pd.concat([test_features_0,test_features_1])\n",
    "    test_labels = pd.concat([test_labels_0,test_labels_1])\n",
    "    \n",
    "    plt.scatter(result_1.iloc[:, 0], result_1.iloc[:, 1], s=9, label='result is 1')\n",
    "    plt.scatter(result_0.iloc[:, 0], result_0.iloc[:, 1], s=9, label='result is 0')\n",
    "\n",
    "\n",
    "    train_features = np.c_[np.ones((train_features.shape[0], 1)), train_features]\n",
    "    train_labels = train_labels[:, np.newaxis]\n",
    "    test_features = np.c_[np.ones((test_features.shape[0], 1)), test_features]\n",
    "    test_labels = test_labels[:, np.newaxis]\n",
    "    theta = np.zeros((train_features.shape[1], 1))\n",
    "\n",
    "    model = LogisticRegression()\n",
    "    model.fit(train_features, train_labels, theta)\n",
    "\n",
    "    accuracy = model.accuracy(test_features, test_labels.flatten())\n",
    "    parameters = model.w\n",
    "    print(\"Accuracy: {} %\\n\".format(accuracy))\n",
    "    \n",
    "    x_values = [np.min(train_features[:, 1] - 2), np.max(train_features[:, 2] + 2)]\n",
    "    y_values = - (parameters[0] + np.dot(parameters[1], x_values)) / parameters[2]\n",
    "\n",
    "    plt.plot(x_values, y_values, label='decision boundary')\n",
    "    plt.legend()\n",
    "    plt.show()\n"
   ]
  },
  {
   "cell_type": "code",
   "execution_count": 92,
   "metadata": {},
   "outputs": [],
   "source": [
    "a = LogisticRegression.predict(model,[[1, 49.5, 55.0]])\n",
    "b = LogisticRegression.predict(model,[[1, 43.0, 74.0]])\n",
    "c = LogisticRegression.predict(model,[[1, 33.5, 70.5]])\n",
    "d = LogisticRegression.predict(model,[[1, 30.0, 78.0]])"
   ]
  },
  {
   "cell_type": "code",
   "execution_count": 93,
   "metadata": {},
   "outputs": [
    {
     "name": "stdout",
     "output_type": "stream",
     "text": [
      "a result =  0.40803679591967973\n",
      "a is not admitted\n"
     ]
    }
   ],
   "source": [
    "print(\"a result = \",a[0][0])\n",
    "if a[0][0]>=0.5:\n",
    "    print(\"a is admitted\")\n",
    "else:\n",
    "    print(\"a is not admitted\")"
   ]
  },
  {
   "cell_type": "code",
   "execution_count": 94,
   "metadata": {},
   "outputs": [
    {
     "name": "stdout",
     "output_type": "stream",
     "text": [
      "b result =  0.7766351643020952\n",
      "b is admitted\n"
     ]
    }
   ],
   "source": [
    "print(\"b result = \",b[0][0])\n",
    "if b[0][0]>=0.5:\n",
    "    print(\"b is admitted\")\n",
    "else:\n",
    "    print(\"b is not admitted\")"
   ]
  },
  {
   "cell_type": "code",
   "execution_count": 95,
   "metadata": {},
   "outputs": [
    {
     "name": "stdout",
     "output_type": "stream",
     "text": [
      "c result =  0.44001227197862197\n",
      "c is not admitted\n"
     ]
    }
   ],
   "source": [
    "print(\"c result = \",c[0][0])\n",
    "if c[0][0]>=0.5:\n",
    "    print(\"c is admitted\")\n",
    "else:\n",
    "    print(\"c is not admitted\")"
   ]
  },
  {
   "cell_type": "code",
   "execution_count": 96,
   "metadata": {},
   "outputs": [
    {
     "name": "stdout",
     "output_type": "stream",
     "text": [
      "d result =  0.5729308931972998\n",
      "d is admitted\n"
     ]
    }
   ],
   "source": [
    "print(\"d result = \",d[0][0])\n",
    "if d[0][0]>=0.5:\n",
    "    print(\"d is admitted\")\n",
    "else:\n",
    "    print(\"d is not admitted\")"
   ]
  },
  {
   "cell_type": "code",
   "execution_count": null,
   "metadata": {},
   "outputs": [],
   "source": []
  },
  {
   "cell_type": "code",
   "execution_count": null,
   "metadata": {},
   "outputs": [],
   "source": []
  }
 ],
 "metadata": {
  "kernelspec": {
   "display_name": "Python 3",
   "language": "python",
   "name": "python3"
  },
  "language_info": {
   "codemirror_mode": {
    "name": "ipython",
    "version": 3
   },
   "file_extension": ".py",
   "mimetype": "text/x-python",
   "name": "python",
   "nbconvert_exporter": "python",
   "pygments_lexer": "ipython3",
   "version": "3.8.5"
  }
 },
 "nbformat": 4,
 "nbformat_minor": 4
}
